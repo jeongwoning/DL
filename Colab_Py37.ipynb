{
  "nbformat": 4,
  "nbformat_minor": 0,
  "metadata": {
    "colab": {
      "name": "Colab.Py37.ipynb",
      "provenance": [],
      "collapsed_sections": [],
      "authorship_tag": "ABX9TyMlYBD69fe23gAKdXckXZnP",
      "include_colab_link": true
    },
    "kernelspec": {
      "name": "python3",
      "display_name": "Python 3"
    },
    "language_info": {
      "name": "python"
    },
    "widgets": {
      "application/vnd.jupyter.widget-state+json": {
        "6caacdb41e7e43719b66e6d806e03462": {
          "model_module": "@jupyter-widgets/controls",
          "model_name": "HBoxModel",
          "model_module_version": "1.5.0",
          "state": {
            "_dom_classes": [],
            "_model_module": "@jupyter-widgets/controls",
            "_model_module_version": "1.5.0",
            "_model_name": "HBoxModel",
            "_view_count": null,
            "_view_module": "@jupyter-widgets/controls",
            "_view_module_version": "1.5.0",
            "_view_name": "HBoxView",
            "box_style": "",
            "children": [
              "IPY_MODEL_b6f0b2f6786647deac3f58b37d4377d3",
              "IPY_MODEL_33a5d30ffe1a414395bb3290fbe44755",
              "IPY_MODEL_08dd951c50aa47a186d729016eb96f13"
            ],
            "layout": "IPY_MODEL_2b94ab8b934a45efb007fa8bff6e259f"
          }
        },
        "b6f0b2f6786647deac3f58b37d4377d3": {
          "model_module": "@jupyter-widgets/controls",
          "model_name": "HTMLModel",
          "model_module_version": "1.5.0",
          "state": {
            "_dom_classes": [],
            "_model_module": "@jupyter-widgets/controls",
            "_model_module_version": "1.5.0",
            "_model_name": "HTMLModel",
            "_view_count": null,
            "_view_module": "@jupyter-widgets/controls",
            "_view_module_version": "1.5.0",
            "_view_name": "HTMLView",
            "description": "",
            "description_tooltip": null,
            "layout": "IPY_MODEL_963ae7a260e84dad91115a7f8b31c435",
            "placeholder": "​",
            "style": "IPY_MODEL_a010e1110be2444c9bfaf6f2829e0476",
            "value": ""
          }
        },
        "33a5d30ffe1a414395bb3290fbe44755": {
          "model_module": "@jupyter-widgets/controls",
          "model_name": "FloatProgressModel",
          "model_module_version": "1.5.0",
          "state": {
            "_dom_classes": [],
            "_model_module": "@jupyter-widgets/controls",
            "_model_module_version": "1.5.0",
            "_model_name": "FloatProgressModel",
            "_view_count": null,
            "_view_module": "@jupyter-widgets/controls",
            "_view_module_version": "1.5.0",
            "_view_name": "ProgressView",
            "bar_style": "success",
            "description": "",
            "description_tooltip": null,
            "layout": "IPY_MODEL_7a6ba4bf2ebf4eca9f4e5c83165dd51a",
            "max": 170498071,
            "min": 0,
            "orientation": "horizontal",
            "style": "IPY_MODEL_4553ba8d0554422793b16ca5d8fdd8a0",
            "value": 170498071
          }
        },
        "08dd951c50aa47a186d729016eb96f13": {
          "model_module": "@jupyter-widgets/controls",
          "model_name": "HTMLModel",
          "model_module_version": "1.5.0",
          "state": {
            "_dom_classes": [],
            "_model_module": "@jupyter-widgets/controls",
            "_model_module_version": "1.5.0",
            "_model_name": "HTMLModel",
            "_view_count": null,
            "_view_module": "@jupyter-widgets/controls",
            "_view_module_version": "1.5.0",
            "_view_name": "HTMLView",
            "description": "",
            "description_tooltip": null,
            "layout": "IPY_MODEL_1f2749ca22f049d6a2108daf99723862",
            "placeholder": "​",
            "style": "IPY_MODEL_3b0f6259d24c4ea88e9554ba36389bcf",
            "value": " 170499072/? [00:03&lt;00:00, 54791459.73it/s]"
          }
        },
        "2b94ab8b934a45efb007fa8bff6e259f": {
          "model_module": "@jupyter-widgets/base",
          "model_name": "LayoutModel",
          "model_module_version": "1.2.0",
          "state": {
            "_model_module": "@jupyter-widgets/base",
            "_model_module_version": "1.2.0",
            "_model_name": "LayoutModel",
            "_view_count": null,
            "_view_module": "@jupyter-widgets/base",
            "_view_module_version": "1.2.0",
            "_view_name": "LayoutView",
            "align_content": null,
            "align_items": null,
            "align_self": null,
            "border": null,
            "bottom": null,
            "display": null,
            "flex": null,
            "flex_flow": null,
            "grid_area": null,
            "grid_auto_columns": null,
            "grid_auto_flow": null,
            "grid_auto_rows": null,
            "grid_column": null,
            "grid_gap": null,
            "grid_row": null,
            "grid_template_areas": null,
            "grid_template_columns": null,
            "grid_template_rows": null,
            "height": null,
            "justify_content": null,
            "justify_items": null,
            "left": null,
            "margin": null,
            "max_height": null,
            "max_width": null,
            "min_height": null,
            "min_width": null,
            "object_fit": null,
            "object_position": null,
            "order": null,
            "overflow": null,
            "overflow_x": null,
            "overflow_y": null,
            "padding": null,
            "right": null,
            "top": null,
            "visibility": null,
            "width": null
          }
        },
        "963ae7a260e84dad91115a7f8b31c435": {
          "model_module": "@jupyter-widgets/base",
          "model_name": "LayoutModel",
          "model_module_version": "1.2.0",
          "state": {
            "_model_module": "@jupyter-widgets/base",
            "_model_module_version": "1.2.0",
            "_model_name": "LayoutModel",
            "_view_count": null,
            "_view_module": "@jupyter-widgets/base",
            "_view_module_version": "1.2.0",
            "_view_name": "LayoutView",
            "align_content": null,
            "align_items": null,
            "align_self": null,
            "border": null,
            "bottom": null,
            "display": null,
            "flex": null,
            "flex_flow": null,
            "grid_area": null,
            "grid_auto_columns": null,
            "grid_auto_flow": null,
            "grid_auto_rows": null,
            "grid_column": null,
            "grid_gap": null,
            "grid_row": null,
            "grid_template_areas": null,
            "grid_template_columns": null,
            "grid_template_rows": null,
            "height": null,
            "justify_content": null,
            "justify_items": null,
            "left": null,
            "margin": null,
            "max_height": null,
            "max_width": null,
            "min_height": null,
            "min_width": null,
            "object_fit": null,
            "object_position": null,
            "order": null,
            "overflow": null,
            "overflow_x": null,
            "overflow_y": null,
            "padding": null,
            "right": null,
            "top": null,
            "visibility": null,
            "width": null
          }
        },
        "a010e1110be2444c9bfaf6f2829e0476": {
          "model_module": "@jupyter-widgets/controls",
          "model_name": "DescriptionStyleModel",
          "model_module_version": "1.5.0",
          "state": {
            "_model_module": "@jupyter-widgets/controls",
            "_model_module_version": "1.5.0",
            "_model_name": "DescriptionStyleModel",
            "_view_count": null,
            "_view_module": "@jupyter-widgets/base",
            "_view_module_version": "1.2.0",
            "_view_name": "StyleView",
            "description_width": ""
          }
        },
        "7a6ba4bf2ebf4eca9f4e5c83165dd51a": {
          "model_module": "@jupyter-widgets/base",
          "model_name": "LayoutModel",
          "model_module_version": "1.2.0",
          "state": {
            "_model_module": "@jupyter-widgets/base",
            "_model_module_version": "1.2.0",
            "_model_name": "LayoutModel",
            "_view_count": null,
            "_view_module": "@jupyter-widgets/base",
            "_view_module_version": "1.2.0",
            "_view_name": "LayoutView",
            "align_content": null,
            "align_items": null,
            "align_self": null,
            "border": null,
            "bottom": null,
            "display": null,
            "flex": null,
            "flex_flow": null,
            "grid_area": null,
            "grid_auto_columns": null,
            "grid_auto_flow": null,
            "grid_auto_rows": null,
            "grid_column": null,
            "grid_gap": null,
            "grid_row": null,
            "grid_template_areas": null,
            "grid_template_columns": null,
            "grid_template_rows": null,
            "height": null,
            "justify_content": null,
            "justify_items": null,
            "left": null,
            "margin": null,
            "max_height": null,
            "max_width": null,
            "min_height": null,
            "min_width": null,
            "object_fit": null,
            "object_position": null,
            "order": null,
            "overflow": null,
            "overflow_x": null,
            "overflow_y": null,
            "padding": null,
            "right": null,
            "top": null,
            "visibility": null,
            "width": null
          }
        },
        "4553ba8d0554422793b16ca5d8fdd8a0": {
          "model_module": "@jupyter-widgets/controls",
          "model_name": "ProgressStyleModel",
          "model_module_version": "1.5.0",
          "state": {
            "_model_module": "@jupyter-widgets/controls",
            "_model_module_version": "1.5.0",
            "_model_name": "ProgressStyleModel",
            "_view_count": null,
            "_view_module": "@jupyter-widgets/base",
            "_view_module_version": "1.2.0",
            "_view_name": "StyleView",
            "bar_color": null,
            "description_width": ""
          }
        },
        "1f2749ca22f049d6a2108daf99723862": {
          "model_module": "@jupyter-widgets/base",
          "model_name": "LayoutModel",
          "model_module_version": "1.2.0",
          "state": {
            "_model_module": "@jupyter-widgets/base",
            "_model_module_version": "1.2.0",
            "_model_name": "LayoutModel",
            "_view_count": null,
            "_view_module": "@jupyter-widgets/base",
            "_view_module_version": "1.2.0",
            "_view_name": "LayoutView",
            "align_content": null,
            "align_items": null,
            "align_self": null,
            "border": null,
            "bottom": null,
            "display": null,
            "flex": null,
            "flex_flow": null,
            "grid_area": null,
            "grid_auto_columns": null,
            "grid_auto_flow": null,
            "grid_auto_rows": null,
            "grid_column": null,
            "grid_gap": null,
            "grid_row": null,
            "grid_template_areas": null,
            "grid_template_columns": null,
            "grid_template_rows": null,
            "height": null,
            "justify_content": null,
            "justify_items": null,
            "left": null,
            "margin": null,
            "max_height": null,
            "max_width": null,
            "min_height": null,
            "min_width": null,
            "object_fit": null,
            "object_position": null,
            "order": null,
            "overflow": null,
            "overflow_x": null,
            "overflow_y": null,
            "padding": null,
            "right": null,
            "top": null,
            "visibility": null,
            "width": null
          }
        },
        "3b0f6259d24c4ea88e9554ba36389bcf": {
          "model_module": "@jupyter-widgets/controls",
          "model_name": "DescriptionStyleModel",
          "model_module_version": "1.5.0",
          "state": {
            "_model_module": "@jupyter-widgets/controls",
            "_model_module_version": "1.5.0",
            "_model_name": "DescriptionStyleModel",
            "_view_count": null,
            "_view_module": "@jupyter-widgets/base",
            "_view_module_version": "1.2.0",
            "_view_name": "StyleView",
            "description_width": ""
          }
        }
      }
    }
  },
  "cells": [
    {
      "cell_type": "markdown",
      "metadata": {
        "id": "view-in-github",
        "colab_type": "text"
      },
      "source": [
        "<a href=\"https://colab.research.google.com/github/jeongwoning/starbucks/blob/master/Colab_Py37.ipynb\" target=\"_parent\"><img src=\"https://colab.research.google.com/assets/colab-badge.svg\" alt=\"Open In Colab\"/></a>"
      ]
    },
    {
      "cell_type": "code",
      "execution_count": null,
      "metadata": {
        "id": "njYeM7k7kzXi"
      },
      "outputs": [],
      "source": [
        "import numpy as np\n",
        "import torch\n",
        "import torch.nn as nn\n",
        "import torch.optim as optim\n",
        "import torch.nn.init as init\n",
        "import torchvision.datasets as dset\n",
        "import torchvision.transforms as transforms\n",
        "from torch.utils.data import DataLoader\n",
        "from torch.autograd import Variable\n",
        "import matplotlib.pyplot as plt\n",
        "\n",
        "from torch.optim import lr_scheduler\n",
        "\n",
        "batch_size=64\n",
        "learning_rate=0.002\n",
        "num_epoch=40"
      ]
    },
    {
      "cell_type": "code",
      "source": [
        "cifar_train=dset.CIFAR10(\"CIFAR10/\", train=True,\n",
        "                         transform=transforms.Compose([transforms.ToTensor(),\n",
        "                                                       transforms.RandomHorizontalFlip(),\n",
        "                                                       transforms.Normalize(mean=(0.5,0.5,0.5), std=(0.5,0.5,0.5))]),\n",
        "                         target_transform=None, download=True)\n",
        "cifar_test=dset.CIFAR10(\"CIFAR10/\", train=False,\n",
        "                        transform=transforms.Compose([transforms.ToTensor(),\n",
        "                                                      transforms.Normalize(mean=(0.5,0.5,0.5), std=(0.5,0.5,0.5))]),\n",
        "                        target_transform=None, download=True)"
      ],
      "metadata": {
        "colab": {
          "base_uri": "https://localhost:8080/",
          "height": 103,
          "referenced_widgets": [
            "6caacdb41e7e43719b66e6d806e03462",
            "b6f0b2f6786647deac3f58b37d4377d3",
            "33a5d30ffe1a414395bb3290fbe44755",
            "08dd951c50aa47a186d729016eb96f13",
            "2b94ab8b934a45efb007fa8bff6e259f",
            "963ae7a260e84dad91115a7f8b31c435",
            "a010e1110be2444c9bfaf6f2829e0476",
            "7a6ba4bf2ebf4eca9f4e5c83165dd51a",
            "4553ba8d0554422793b16ca5d8fdd8a0",
            "1f2749ca22f049d6a2108daf99723862",
            "3b0f6259d24c4ea88e9554ba36389bcf"
          ]
        },
        "id": "tU196p1GlFW5",
        "outputId": "058cea78-3ebd-4544-b1c3-0b2feab5f566"
      },
      "execution_count": null,
      "outputs": [
        {
          "output_type": "stream",
          "name": "stdout",
          "text": [
            "Downloading https://www.cs.toronto.edu/~kriz/cifar-10-python.tar.gz to CIFAR10/cifar-10-python.tar.gz\n"
          ]
        },
        {
          "output_type": "display_data",
          "data": {
            "text/plain": [
              "  0%|          | 0/170498071 [00:00<?, ?it/s]"
            ],
            "application/vnd.jupyter.widget-view+json": {
              "version_major": 2,
              "version_minor": 0,
              "model_id": "6caacdb41e7e43719b66e6d806e03462"
            }
          },
          "metadata": {}
        },
        {
          "output_type": "stream",
          "name": "stdout",
          "text": [
            "Extracting CIFAR10/cifar-10-python.tar.gz to CIFAR10/\n",
            "Files already downloaded and verified\n"
          ]
        }
      ]
    },
    {
      "cell_type": "code",
      "source": [
        "print(\"cifar_train 길이:\", len(cifar_train))\n",
        "print(\"cifar_test 길이:\", len(cifar_test))\n",
        "\n",
        "image, label = cifar_train.__getitem__(1)\n",
        "print(\"image data 형태:\", image.size())\n",
        "print(\"label:\", label)\n",
        "\n",
        "img = image.numpy()\n",
        "\n",
        "r,g,b = img[0,:,:], img[1,:,:], img[2,:,:]\n",
        "img2 = np.zeros((img.shape[1], img.shape[2], img.shape[0]))\n",
        "img2[:,:,0], img2[:,:,1], img2[:,:,2] = r,g,b\n",
        "\n",
        "plt.title(\"label: %d\" %label)\n",
        "plt.imshow(img2, interpolation='bicubic')\n",
        "plt.show()"
      ],
      "metadata": {
        "colab": {
          "base_uri": "https://localhost:8080/",
          "height": 372
        },
        "id": "djhsenPTlONX",
        "outputId": "3514b54f-8f86-4cdb-c87a-e8c56266b87b"
      },
      "execution_count": null,
      "outputs": [
        {
          "output_type": "stream",
          "name": "stderr",
          "text": [
            "Clipping input data to the valid range for imshow with RGB data ([0..1] for floats or [0..255] for integers).\n"
          ]
        },
        {
          "output_type": "stream",
          "name": "stdout",
          "text": [
            "cifar_train 길이: 50000\n",
            "cifar_test 길이: 10000\n",
            "image data 형태: torch.Size([3, 32, 32])\n",
            "label: 9\n"
          ]
        },
        {
          "output_type": "display_data",
          "data": {
            "text/plain": [
              "<Figure size 432x288 with 1 Axes>"
            ],
            "image/png": "[encoded data removed]"
          },
          "metadata": {
            "needs_background": "light"
          }
        }
      ]
    },
    {
      "cell_type": "code",
      "source": [
        "def ComputeAccr(dloader, imodel):\n",
        "    correct = 0\n",
        "    total = 0\n",
        "\n",
        "    for j, [imgs, labels] in enumerate(dloader):\n",
        "        img = Variable(imgs, volatile=True).cuda()\n",
        "        label = Variable(labels).cuda()\n",
        "\n",
        "        output = imodel.forward(img)\n",
        "        _, output_index = torch.max(output, 1)\n",
        "\n",
        "        total += label.size(0)\n",
        "        correct += (output_index == label).sum().float()\n",
        "\n",
        "    print(\"Accuracy of Test Data: {}\".format(100*correct/total))"
      ],
      "metadata": {
        "id": "Ah0tMWOqlR_M"
      },
      "execution_count": null,
      "outputs": []
    },
    {
      "cell_type": "code",
      "source": [
        "train_loader=torch.utils.data.DataLoader(list(cifar_train)[:], batch_size=batch_size, shuffle=True, num_workers=2, drop_last=True)\n",
        "test_loader=torch.utils.data.DataLoader(cifar_test, batch_size=batch_size, shuffle=False, num_workers=2, drop_last=True)\n",
        "\n",
        "class CNN(nn.Module):\n",
        "    def __init__(self):\n",
        "        super(CNN,self).__init__()\n",
        "        self.layer=nn.Sequential(\n",
        "            nn.Conv2d(3,8,3,padding=1),\n",
        "            nn.BatchNorm2d(8),\n",
        "            nn.ReLU(),\n",
        "            #nn.Dropout2d(0.5),\n",
        "            nn.Conv2d(8,32,3,padding=1),\n",
        "            nn.BatchNorm2d(32),\n",
        "            nn.ReLU(),\n",
        "            #nn.Dropout2d(0.5),\n",
        "            nn.MaxPool2d(2,2),\n",
        "            nn.Conv2d(32,64,3,padding=1),\n",
        "            nn.BatchNorm2d(64),\n",
        "            nn.ReLU(),\n",
        "            nn.Dropout2d(0.5),\n",
        "            nn.MaxPool2d(2,2)\n",
        "        )\n",
        "        self.fc_layer=nn.Sequential(\n",
        "            nn.Linear(64*8*8,500),\n",
        "            nn.BatchNorm1d(500),\n",
        "            nn.ReLU(),\n",
        "            nn.Dropout2d(0.5),\n",
        "            nn.Linear(500,10)\n",
        "        )\n",
        "\n",
        "        for m in self.modules():\n",
        "            if isinstance(m, nn.Conv2d):\n",
        "                init.kaiming_normal(m.weight.data)\n",
        "                m.bias.data.fill_(0)\n",
        "            if isinstance(m, nn.Linear):\n",
        "                init.kaiming_normal(m.weight.data)\n",
        "                m.bias.data.fill_(0)\n",
        "\n",
        "    def forward(self,x):\n",
        "        out=self.layer(x)\n",
        "        out=out.view(batch_size,-1)\n",
        "        out=self.fc_layer(out)\n",
        "\n",
        "        return out\n",
        "model=CNN().cuda()"
      ],
      "metadata": {
        "colab": {
          "base_uri": "https://localhost:8080/"
        },
        "id": "xKOa8ioNlXXx",
        "outputId": "61dbcdb7-6ac1-4b3a-ef43-4c0fdab28fe0"
      },
      "execution_count": null,
      "outputs": [
        {
          "output_type": "stream",
          "name": "stderr",
          "text": [
            "/usr/local/lib/python3.7/dist-packages/ipykernel_launcher.py:33: UserWarning: nn.init.kaiming_normal is now deprecated in favor of nn.init.kaiming_normal_.\n",
            "/usr/local/lib/python3.7/dist-packages/ipykernel_launcher.py:36: UserWarning: nn.init.kaiming_normal is now deprecated in favor of nn.init.kaiming_normal_.\n"
          ]
        }
      ]
    },
    {
      "cell_type": "code",
      "source": [
        "loss_func=nn.CrossEntropyLoss()\n",
        "optimizer=torch.optim.Adam(model.parameters(), lr=learning_rate)\n",
        "\n",
        "scheduler = lr_scheduler.StepLR(optimizer, step_size=10, gamma=0.5)\n",
        "\n",
        "model.train()\n",
        "for i in range(num_epoch):\n",
        "    for j,[image, label] in enumerate(train_loader):\n",
        "        x=Variable(image).cuda()\n",
        "        y_=Variable(label).cuda()\n",
        "\n",
        "        optimizer.zero_grad()\n",
        "        output=model.forward(x)\n",
        "        loss=loss_func(output,y_)\n",
        "        loss.backward()\n",
        "        optimizer.step()\n",
        "\n",
        "        if j%1000==0:\n",
        "            print(j,loss)"
      ],
      "metadata": {
        "colab": {
          "base_uri": "https://localhost:8080/"
        },
        "id": "Xir7RrLelxCe",
        "outputId": "2e7280f6-2d23-4357-91f4-c6da27c0b135"
      },
      "execution_count": null,
      "outputs": [
        {
          "output_type": "stream",
          "name": "stderr",
          "text": [
            "/usr/local/lib/python3.7/dist-packages/torch/nn/functional.py:1320: UserWarning: dropout2d: Received a 2-D input to dropout2d, which is deprecated and will result in an error in a future release. To retain the behavior and silence this warning, please use dropout instead. Note that dropout2d exists to provide channel-wise dropout on inputs with 2 spatial dimensions, a channel dimension, and an optional batch dimension (i.e. 3D or 4D inputs).\n",
            "  warnings.warn(warn_msg)\n"
          ]
        },
        {
          "output_type": "stream",
          "name": "stdout",
          "text": [
            "0 tensor(3.3733, device='cuda:0', grad_fn=<NllLossBackward0>)\n",
            "0 tensor(1.8655, device='cuda:0', grad_fn=<NllLossBackward0>)\n",
            "0 tensor(1.7336, device='cuda:0', grad_fn=<NllLossBackward0>)\n",
            "0 tensor(1.7687, device='cuda:0', grad_fn=<NllLossBackward0>)\n",
            "0 tensor(1.8360, device='cuda:0', grad_fn=<NllLossBackward0>)\n",
            "0 tensor(1.6847, device='cuda:0', grad_fn=<NllLossBackward0>)\n",
            "0 tensor(1.4367, device='cuda:0', grad_fn=<NllLossBackward0>)\n",
            "0 tensor(1.4906, device='cuda:0', grad_fn=<NllLossBackward0>)\n",
            "0 tensor(1.4395, device='cuda:0', grad_fn=<NllLossBackward0>)\n",
            "0 tensor(1.5198, device='cuda:0', grad_fn=<NllLossBackward0>)\n",
            "0 tensor(1.3751, device='cuda:0', grad_fn=<NllLossBackward0>)\n",
            "0 tensor(1.6306, device='cuda:0', grad_fn=<NllLossBackward0>)\n",
            "0 tensor(1.2712, device='cuda:0', grad_fn=<NllLossBackward0>)\n",
            "0 tensor(1.4990, device='cuda:0', grad_fn=<NllLossBackward0>)\n",
            "0 tensor(1.4107, device='cuda:0', grad_fn=<NllLossBackward0>)\n",
            "0 tensor(1.4541, device='cuda:0', grad_fn=<NllLossBackward0>)\n",
            "0 tensor(1.5315, device='cuda:0', grad_fn=<NllLossBackward0>)\n",
            "0 tensor(1.5217, device='cuda:0', grad_fn=<NllLossBackward0>)\n",
            "0 tensor(1.6615, device='cuda:0', grad_fn=<NllLossBackward0>)\n",
            "0 tensor(1.6980, device='cuda:0', grad_fn=<NllLossBackward0>)\n",
            "0 tensor(1.2138, device='cuda:0', grad_fn=<NllLossBackward0>)\n",
            "0 tensor(1.1560, device='cuda:0', grad_fn=<NllLossBackward0>)\n",
            "0 tensor(1.7655, device='cuda:0', grad_fn=<NllLossBackward0>)\n",
            "0 tensor(1.4481, device='cuda:0', grad_fn=<NllLossBackward0>)\n",
            "0 tensor(1.4407, device='cuda:0', grad_fn=<NllLossBackward0>)\n",
            "0 tensor(1.0843, device='cuda:0', grad_fn=<NllLossBackward0>)\n",
            "0 tensor(1.4231, device='cuda:0', grad_fn=<NllLossBackward0>)\n",
            "0 tensor(1.1602, device='cuda:0', grad_fn=<NllLossBackward0>)\n",
            "0 tensor(1.3641, device='cuda:0', grad_fn=<NllLossBackward0>)\n",
            "0 tensor(1.2353, device='cuda:0', grad_fn=<NllLossBackward0>)\n",
            "0 tensor(1.4466, device='cuda:0', grad_fn=<NllLossBackward0>)\n",
            "0 tensor(1.4666, device='cuda:0', grad_fn=<NllLossBackward0>)\n",
            "0 tensor(1.2353, device='cuda:0', grad_fn=<NllLossBackward0>)\n",
            "0 tensor(1.2349, device='cuda:0', grad_fn=<NllLossBackward0>)\n",
            "0 tensor(1.2639, device='cuda:0', grad_fn=<NllLossBackward0>)\n",
            "0 tensor(1.2521, device='cuda:0', grad_fn=<NllLossBackward0>)\n",
            "0 tensor(1.2634, device='cuda:0', grad_fn=<NllLossBackward0>)\n",
            "0 tensor(1.2001, device='cuda:0', grad_fn=<NllLossBackward0>)\n",
            "0 tensor(1.4566, device='cuda:0', grad_fn=<NllLossBackward0>)\n",
            "0 tensor(1.2579, device='cuda:0', grad_fn=<NllLossBackward0>)\n"
          ]
        }
      ]
    },
    {
      "cell_type": "code",
      "source": [
        "model.eval()\n",
        "ComputeAccr(test_loader, model)"
      ],
      "metadata": {
        "colab": {
          "base_uri": "https://localhost:8080/"
        },
        "id": "D02zp4mbm8zB",
        "outputId": "51976bd9-59a0-4b19-f4eb-c73130d2c2e8"
      },
      "execution_count": null,
      "outputs": [
        {
          "output_type": "stream",
          "name": "stderr",
          "text": [
            "/usr/local/lib/python3.7/dist-packages/ipykernel_launcher.py:6: UserWarning: volatile was removed and now has no effect. Use `with torch.no_grad():` instead.\n",
            "  \n",
            "/usr/local/lib/python3.7/dist-packages/torch/nn/functional.py:1320: UserWarning: dropout2d: Received a 2-D input to dropout2d, which is deprecated and will result in an error in a future release. To retain the behavior and silence this warning, please use dropout instead. Note that dropout2d exists to provide channel-wise dropout on inputs with 2 spatial dimensions, a channel dimension, and an optional batch dimension (i.e. 3D or 4D inputs).\n",
            "  warnings.warn(warn_msg)\n"
          ]
        },
        {
          "output_type": "stream",
          "name": "stdout",
          "text": [
            "Accuracy of Test Data: 79.03646087646484\n"
          ]
        }
      ]
    },
    {
      "cell_type": "code",
      "source": [
        "netname = './nets/hjw_net01.pkl'\n",
        "torch.save(model, netname, )"
      ],
      "metadata": {
        "id": "RlFxxDwYnCCO"
      },
      "execution_count": null,
      "outputs": []
    },
    {
      "cell_type": "code",
      "source": [
        "netname = './nets/hjw_net01.pkl'\n",
        "model = torch.load(netname)\n",
        "\n",
        "ComputeAccr(test_loader, model)"
      ],
      "metadata": {
        "colab": {
          "base_uri": "https://localhost:8080/"
        },
        "id": "s9QrhjtBnLrQ",
        "outputId": "61b4a6ac-f693-479f-9701-b7c8dac42137"
      },
      "execution_count": null,
      "outputs": [
        {
          "output_type": "stream",
          "name": "stderr",
          "text": [
            "/usr/local/lib/python3.7/dist-packages/ipykernel_launcher.py:6: UserWarning: volatile was removed and now has no effect. Use `with torch.no_grad():` instead.\n",
            "  \n",
            "/usr/local/lib/python3.7/dist-packages/torch/nn/functional.py:1320: UserWarning: dropout2d: Received a 2-D input to dropout2d, which is deprecated and will result in an error in a future release. To retain the behavior and silence this warning, please use dropout instead. Note that dropout2d exists to provide channel-wise dropout on inputs with 2 spatial dimensions, a channel dimension, and an optional batch dimension (i.e. 3D or 4D inputs).\n",
            "  warnings.warn(warn_msg)\n"
          ]
        },
        {
          "output_type": "stream",
          "name": "stdout",
          "text": [
            "Accuracy of Test Data: 79.03646087646484\n"
          ]
        }
      ]
    }
  ]
}